{
 "cells": [
  {
   "cell_type": "markdown",
   "id": "b918cadf",
   "metadata": {},
   "source": [
    "<!DOCTYPE html>\n",
    "<html>\n",
    "<head>\n",
    "    <title>My Social Profiles</title>\n",
    "</head>\n",
    "<body>\n",
    "    <h1>My Social Profiles</h1>\n",
    "    Note: To Follow And Any Query Feel Free To Contact\n",
    "    \n",
    "- <a href=\"https://www.youtube.com/@AhsanTechTalk0724\">My YouTube Channel</a>\n",
    "       \n",
    "- <a href=\"https://www.linkedin.com/in/engr-ahsan-tariq-0724-/\">My LinkedIn Profile</a>\n",
    "        \n",
    "- <a href=\"https://github.com/ahsantariq7\">My GitHub Account</a>\n",
    "\n",
    "- <a href=\"https://www.facebook.com/ahsantariq0724/\">My FaceBook Account</a>\n",
    "    \n",
    "- <a href=\"mailto:ahsantariq0724@gmail.com\">Click here to send an email</a>\n",
    "\n",
    "      \n",
    "</body>\n",
    "</html>\n"
   ]
  },
  {
   "cell_type": "code",
   "execution_count": 29,
   "id": "5193bbd7",
   "metadata": {},
   "outputs": [
    {
     "data": {
      "text/html": [
       "<img src=\"https://scontent.flhe25-1.fna.fbcdn.net/v/t39.30808-6/322959769_688313266422231_2651007991561433272_n.jpg?_nc_cat=106&ccb=1-7&_nc_sid=09cbfe&_nc_eui2=AeGsYf7untRAHe9U6m698DVLFfYJZM0iqCUV9glkzSKoJUnZrImvhJ_EQ2t1HSG-6elOVXAfi8S_o3EdpEYDFtVP&_nc_ohc=wyOMYm8BMckAX_csKty&_nc_ht=scontent.flhe25-1.fna&oh=00_AfDqVkU01YFo2MnDeRAg07pHFPiAInV1uooBkrlP4r-7gg&oe=64743EAC\"/>"
      ],
      "text/plain": [
       "<IPython.core.display.Image object>"
      ]
     },
     "execution_count": 29,
     "metadata": {},
     "output_type": "execute_result"
    }
   ],
   "source": [
    "from IPython.display import Image\n",
    "\n",
    "# URL of your Facebook profile picture\n",
    "image_url = \"https://scontent.flhe25-1.fna.fbcdn.net/v/t39.30808-6/322959769_688313266422231_2651007991561433272_n.jpg?_nc_cat=106&ccb=1-7&_nc_sid=09cbfe&_nc_eui2=AeGsYf7untRAHe9U6m698DVLFfYJZM0iqCUV9glkzSKoJUnZrImvhJ_EQ2t1HSG-6elOVXAfi8S_o3EdpEYDFtVP&_nc_ohc=wyOMYm8BMckAX_csKty&_nc_ht=scontent.flhe25-1.fna&oh=00_AfDqVkU01YFo2MnDeRAg07pHFPiAInV1uooBkrlP4r-7gg&oe=64743EAC\"\n",
    "\n",
    "# Display the image\n",
    "Image(url=image_url)\n"
   ]
  },
  {
   "cell_type": "markdown",
   "id": "06938c94",
   "metadata": {},
   "source": [
    "# Defining and calling functions:\n",
    "In Python, a function is a reusable block of code that performs a specific task. It allows you to break down your program into smaller, manageable pieces. Here's how you can define and call functions in Python:\n",
    "\n",
    "To define a function, you use the def keyword followed by the function name and parentheses. Inside the parentheses, you can specify any parameters the function accepts. Then, you write the code block for the function, which is indented under the function definition."
   ]
  },
  {
   "cell_type": "code",
   "execution_count": 1,
   "id": "e98c7436",
   "metadata": {},
   "outputs": [],
   "source": [
    "def greet():\n",
    "    print(\"Hello, World!\")\n",
    "\n",
    "def add_numbers(a, b):\n",
    "    sum = a + b\n",
    "    return sum\n",
    "\n",
    "def multiply_numbers(a, b):\n",
    "    product = a * b\n",
    "    return product\n"
   ]
  },
  {
   "cell_type": "markdown",
   "id": "33ccefad",
   "metadata": {},
   "source": [
    "To call a function, you simply write the function name followed by parentheses. If the function accepts parameters, you provide the values for those parameters within the parentheses."
   ]
  },
  {
   "cell_type": "code",
   "execution_count": 2,
   "id": "518b59a0",
   "metadata": {},
   "outputs": [
    {
     "name": "stdout",
     "output_type": "stream",
     "text": [
      "Hello, World!\n",
      "8\n",
      "8\n"
     ]
    }
   ],
   "source": [
    "greet()  # Output: Hello, World!\n",
    "\n",
    "result = add_numbers(5, 3)\n",
    "print(result)  # Output: 8\n",
    "\n",
    "result = multiply_numbers(2, 4)\n",
    "print(result)  # Output: 8\n"
   ]
  },
  {
   "cell_type": "markdown",
   "id": "0cb2e3cf",
   "metadata": {},
   "source": [
    "# Function parameters and return values:\n",
    "Functions can accept parameters, which are variables that hold the values passed to the function. You can define parameters inside the parentheses when defining the function. Parameters allow you to pass data to the function for it to work with."
   ]
  },
  {
   "cell_type": "code",
   "execution_count": 3,
   "id": "2624b931",
   "metadata": {},
   "outputs": [],
   "source": [
    "def greet(name):\n",
    "    print(\"Hello, \" + name + \"!\")\n",
    "\n",
    "def add_numbers(a, b):\n",
    "    sum = a + b\n",
    "    return sum\n"
   ]
  },
  {
   "cell_type": "markdown",
   "id": "1357659f",
   "metadata": {},
   "source": [
    "Functions can also have return values. The return statement allows you to send a value back from the function to the caller. The returned value can be stored in a variable for further use."
   ]
  },
  {
   "cell_type": "code",
   "execution_count": 4,
   "id": "dcf75f97",
   "metadata": {},
   "outputs": [],
   "source": [
    "def multiply_numbers(a, b):\n",
    "    product = a * b\n",
    "    return product\n"
   ]
  },
  {
   "cell_type": "markdown",
   "id": "c2bd2400",
   "metadata": {},
   "source": [
    "# higher-order function"
   ]
  },
  {
   "cell_type": "code",
   "execution_count": 21,
   "id": "f1b6a709",
   "metadata": {},
   "outputs": [
    {
     "name": "stdout",
     "output_type": "stream",
     "text": [
      "Hello, ALICE!\n"
     ]
    }
   ],
   "source": [
    "def greet(name):\n",
    "    return f\"Hello, {name}!\"\n",
    "\n",
    "def uppercase_decorator(func):\n",
    "    def wrapper(name):\n",
    "        return func(name.upper())\n",
    "    return wrapper\n",
    "\n",
    "greet_decorated = uppercase_decorator(greet)\n",
    "print(greet_decorated(\"Alice\"))\n"
   ]
  },
  {
   "cell_type": "markdown",
   "id": "48c4622b",
   "metadata": {},
   "source": [
    "In the above example, we have a higher-order function called uppercase_decorator. This function takes another function func as an argument and returns a new function wrapper that modifies the behavior of func. The wrapper function, in this case, converts the input name to uppercase before passing it to func.\n",
    "\n",
    "We define a simple function greet that takes a name parameter and returns a greeting message. Then, we create a decorated version of greet by calling uppercase_decorator(greet) and assigning the returned function to greet_decorated. This decorated function greet_decorated will automatically convert the input name to uppercase before invoking the original greet function.\n",
    "\n",
    "When we call greet_decorated(\"Alice\"), it internally calls the wrapper function, passing the uppercase version of \"Alice\". The wrapper function then invokes the original greet function with the modified argument, resulting in the output: \"Hello, ALICE!\".\n",
    "\n",
    "The uppercase_decorator function is an example of a higher-order function because it takes a function as an argument (func) and returns a new function (wrapper). This allows us to modify the behavior of greet by wrapping it in another function.\n",
    "\n",
    "Higher-order functions are powerful tools in Python that enable you to compose and manipulate functions, making your code more flexible and modular."
   ]
  },
  {
   "cell_type": "markdown",
   "id": "1591dc19",
   "metadata": {},
   "source": [
    "# Generator Functions:"
   ]
  },
  {
   "cell_type": "markdown",
   "id": "5827b375",
   "metadata": {},
   "source": [
    "\n",
    "Generator functions are special types of functions in Python that use the yield keyword instead of return to return values. They allow you to generate a sequence of values on-the-fly, one at a time, rather than producing the entire sequence upfront. This makes them memory-efficient and suitable for generating large or infinite sequences."
   ]
  },
  {
   "cell_type": "code",
   "execution_count": 22,
   "id": "acbf18c6",
   "metadata": {},
   "outputs": [
    {
     "name": "stdout",
     "output_type": "stream",
     "text": [
      "[0, 1, 1, 2, 3, 5, 8, 13, 21, 34]\n"
     ]
    }
   ],
   "source": [
    "def fibonacci_generator():\n",
    "    a, b = 0, 1\n",
    "    while True:\n",
    "        yield a\n",
    "        a, b = b, a + b\n",
    "\n",
    "# Create a generator object\n",
    "fib_gen = fibonacci_generator()\n",
    "\n",
    "# Generate Fibonacci numbers up to a certain limit\n",
    "limit = 10\n",
    "fib_nums = []\n",
    "for _ in range(limit):\n",
    "    fib_nums.append(next(fib_gen))\n",
    "\n",
    "print(fib_nums)\n"
   ]
  },
  {
   "cell_type": "markdown",
   "id": "61eee41f",
   "metadata": {},
   "source": [
    "In this example, we define a generator function called fibonacci_generator(). It generates the Fibonacci sequence by using an infinite loop and the yield keyword to yield each Fibonacci number. The function retains its internal state between iterations, so it remembers the previous values of a and b.\n",
    "\n",
    "To use the generator function, we create a generator object fib_gen by calling fibonacci_generator(). We then use a loop to generate Fibonacci numbers up to a specified limit. Each call to next(fib_gen) retrieves the next value from the generator sequence.\n",
    "\n",
    "The output of this example will be a list of the first 10 Fibonacci numbers: [0, 1, 1, 2, 3, 5, 8, 13, 21, 34].\n",
    "\n",
    "Generator functions provide a convenient way to generate values dynamically and iteratively. They are particularly useful when working with large data sets or when generating values on-the-fly. By yielding values one at a time, they conserve memory and can be more efficient than creating and storing the entire sequence upfront."
   ]
  },
  {
   "cell_type": "markdown",
   "id": "64aeb07b",
   "metadata": {},
   "source": [
    "# global variables"
   ]
  },
  {
   "cell_type": "markdown",
   "id": "9fbae39c",
   "metadata": {},
   "source": [
    "In Python, global variables are variables that are defined outside of any function and can be accessed from any part of the code, including within functions. By default, variables defined inside a function are considered local to that function and cannot be accessed outside of it. However, if you want to modify a global variable within a function or access its value, you need to explicitly declare it as a global variable.\n",
    "\n",
    "Here's an example that demonstrates the usage of global variables within functions:"
   ]
  },
  {
   "cell_type": "code",
   "execution_count": 27,
   "id": "491c6508",
   "metadata": {},
   "outputs": [
    {
     "name": "stdout",
     "output_type": "stream",
     "text": [
      "0\n"
     ]
    }
   ],
   "source": [
    "count = 0\n",
    "\n",
    "def increment():\n",
    "    global count  # Declare count as a global variable\n",
    "    print(count)\n",
    "\n",
    "    count += 1\n",
    "\n",
    "increment()\n"
   ]
  },
  {
   "cell_type": "markdown",
   "id": "68c1fa27",
   "metadata": {},
   "source": [
    "In this example, we have a global variable count initially set to 0. We define two functions, increment() and decrement(), that modify or access the value of count.\n",
    "\n",
    "Inside the increment() function, we declare count as a global variable using the global keyword. This allows us to modify its value by incrementing it.\n",
    "\n",
    "Inside the decrement() function, we access the global variable count without declaring it as global since we are only reading its value.\n",
    "\n",
    "When we call the functions, increment() is called twice, incrementing the value of count to 2. Then, decrement() is called, which prints the current value of count (2) and decrements it to 1."
   ]
  },
  {
   "cell_type": "markdown",
   "id": "1b14725f",
   "metadata": {},
   "source": [
    "# Importing and using modules in Python:\n",
    "Python provides a way to extend its functionality through modules. Modules are files containing Python code that define functions, classes, and variables. You can import these modules into your program and use their functionality. Here's how you can import and use modules in Python:\n",
    "\n",
    "To import a module, you use the import keyword followed by the module name."
   ]
  },
  {
   "cell_type": "code",
   "execution_count": 5,
   "id": "9631a9f6",
   "metadata": {},
   "outputs": [],
   "source": [
    "import math\n"
   ]
  },
  {
   "cell_type": "markdown",
   "id": "c735fd3f",
   "metadata": {},
   "source": [
    "Once imported, you can access the functions, classes, or variables defined in the module using the dot notation."
   ]
  },
  {
   "cell_type": "code",
   "execution_count": 7,
   "id": "f44ac505",
   "metadata": {},
   "outputs": [
    {
     "name": "stdout",
     "output_type": "stream",
     "text": [
      "4.0\n"
     ]
    }
   ],
   "source": [
    "result = math.sqrt(16)\n",
    "print(result)  # Output: 4.0\n"
   ]
  },
  {
   "cell_type": "markdown",
   "id": "6cfb3f44",
   "metadata": {},
   "source": [
    "If you only need specific functions or variables from a module, you can import them directly using the from keyword."
   ]
  },
  {
   "cell_type": "code",
   "execution_count": 8,
   "id": "5d7729ec",
   "metadata": {},
   "outputs": [
    {
     "name": "stdout",
     "output_type": "stream",
     "text": [
      "5.0\n"
     ]
    }
   ],
   "source": [
    "from math import sqrt\n",
    "\n",
    "result = sqrt(25)\n",
    "print(result)  # Output: 5.0\n"
   ]
  },
  {
   "cell_type": "markdown",
   "id": "a985448f",
   "metadata": {},
   "source": [
    "# Function without parameters"
   ]
  },
  {
   "cell_type": "code",
   "execution_count": 9,
   "id": "032ea93a",
   "metadata": {},
   "outputs": [
    {
     "name": "stdout",
     "output_type": "stream",
     "text": [
      "Hello, World!\n"
     ]
    }
   ],
   "source": [
    "def greet():\n",
    "    print(\"Hello, World!\")\n",
    "\n",
    "# Call the greet() function\n",
    "greet()\n"
   ]
  },
  {
   "cell_type": "markdown",
   "id": "6cdb1865",
   "metadata": {},
   "source": [
    "#  Function with parameters"
   ]
  },
  {
   "cell_type": "code",
   "execution_count": 10,
   "id": "d927b5c7",
   "metadata": {},
   "outputs": [
    {
     "name": "stdout",
     "output_type": "stream",
     "text": [
      "The sum is: 8\n"
     ]
    }
   ],
   "source": [
    "def add_numbers(a, b):\n",
    "    sum = a + b\n",
    "    print(\"The sum is:\", sum)\n",
    "\n",
    "# Call the add_numbers() function with arguments\n",
    "add_numbers(5, 3)\n"
   ]
  },
  {
   "cell_type": "markdown",
   "id": "1be28e6f",
   "metadata": {},
   "source": [
    "# Function with a return value"
   ]
  },
  {
   "cell_type": "code",
   "execution_count": 11,
   "id": "44e8fd40",
   "metadata": {},
   "outputs": [
    {
     "name": "stdout",
     "output_type": "stream",
     "text": [
      "The product is: 8\n"
     ]
    }
   ],
   "source": [
    "def multiply_numbers(a, b):\n",
    "    product = a * b\n",
    "    return product\n",
    "\n",
    "# Call the multiply_numbers() function and store the result\n",
    "result = multiply_numbers(2, 4)\n",
    "print(\"The product is:\", result)\n"
   ]
  },
  {
   "cell_type": "markdown",
   "id": "2c817b73",
   "metadata": {},
   "source": [
    "# Function with default parameter value"
   ]
  },
  {
   "cell_type": "code",
   "execution_count": 12,
   "id": "44513aca",
   "metadata": {},
   "outputs": [
    {
     "name": "stdout",
     "output_type": "stream",
     "text": [
      "Hello, World!\n",
      "Hello, Alice!\n"
     ]
    }
   ],
   "source": [
    "def greet(name=\"World\"):\n",
    "    print(\"Hello, \" + name + \"!\")\n",
    "\n",
    "# Call the greet() function without arguments\n",
    "greet()  # Output: Hello, World!\n",
    "\n",
    "# Call the greet() function with an argument\n",
    "greet(\"Alice\")  # Output: Hello, Alice!\n"
   ]
  },
  {
   "cell_type": "markdown",
   "id": "9abe410d",
   "metadata": {},
   "source": [
    "# Function with Multiple Return Values:"
   ]
  },
  {
   "cell_type": "code",
   "execution_count": 13,
   "id": "6990146d",
   "metadata": {},
   "outputs": [
    {
     "name": "stdout",
     "output_type": "stream",
     "text": [
      "Enter your name: Ahsan\n",
      "Enter your age: 23\n",
      "Name: Ahsan\n",
      "Age: 23\n"
     ]
    }
   ],
   "source": [
    "def get_name_and_age():\n",
    "    name = input(\"Enter your name: \")\n",
    "    age = int(input(\"Enter your age: \"))\n",
    "    return name, age\n",
    "\n",
    "# Call the get_name_and_age() function and unpack the returned values\n",
    "name, age = get_name_and_age()\n",
    "print(\"Name:\", name)\n",
    "print(\"Age:\", age)\n"
   ]
  },
  {
   "cell_type": "markdown",
   "id": "948a09d0",
   "metadata": {},
   "source": [
    "# Recursive Function:"
   ]
  },
  {
   "cell_type": "code",
   "execution_count": 14,
   "id": "a1d73b32",
   "metadata": {},
   "outputs": [
    {
     "name": "stdout",
     "output_type": "stream",
     "text": [
      "Factorial of 5 is: 120\n"
     ]
    }
   ],
   "source": [
    "def factorial(n):\n",
    "    if n == 0 or n == 1:\n",
    "        return 1\n",
    "    else:\n",
    "        return n * factorial(n - 1)\n",
    "\n",
    "# Call the factorial() function\n",
    "result = factorial(5)\n",
    "print(\"Factorial of 5 is:\", result)\n"
   ]
  },
  {
   "cell_type": "markdown",
   "id": "3c5ed995",
   "metadata": {},
   "source": [
    "# Lambda Functions (Anonymous Functions):"
   ]
  },
  {
   "cell_type": "code",
   "execution_count": 15,
   "id": "0b5529ab",
   "metadata": {},
   "outputs": [
    {
     "name": "stdout",
     "output_type": "stream",
     "text": [
      "Square: 25\n"
     ]
    }
   ],
   "source": [
    "square = lambda x: x ** 2\n",
    "\n",
    "# Call the lambda function\n",
    "result = square(5)\n",
    "print(\"Square:\", result)\n"
   ]
  },
  {
   "cell_type": "markdown",
   "id": "43cbb764",
   "metadata": {},
   "source": [
    "# Built-in Functions:\n",
    "- For detail read notebook or Lect_No_2"
   ]
  },
  {
   "cell_type": "code",
   "execution_count": 16,
   "id": "15e7e706",
   "metadata": {},
   "outputs": [
    {
     "name": "stdout",
     "output_type": "stream",
     "text": [
      "Length: 13\n",
      "Maximum: 8\n",
      "Absolute: 7\n"
     ]
    }
   ],
   "source": [
    "# len(): Returns the length of an object\n",
    "length = len(\"Hello, World!\")\n",
    "print(\"Length:\", length)\n",
    "\n",
    "# max(): Returns the largest item in an iterable or among multiple arguments\n",
    "maximum = max(5, 3, 8, 2)\n",
    "print(\"Maximum:\", maximum)\n",
    "\n",
    "# abs(): Returns the absolute value of a number\n",
    "absolute = abs(-7)\n",
    "print(\"Absolute:\", absolute)\n"
   ]
  },
  {
   "cell_type": "markdown",
   "id": "a665ecaa",
   "metadata": {},
   "source": [
    "# Importing and using modules in Python"
   ]
  },
  {
   "cell_type": "code",
   "execution_count": 17,
   "id": "bf3fa841",
   "metadata": {},
   "outputs": [
    {
     "name": "stdout",
     "output_type": "stream",
     "text": [
      "Square root of 16: 4.0\n",
      "Value of pi: 3.141592653589793\n"
     ]
    }
   ],
   "source": [
    "import math\n",
    "\n",
    "# Using math functions\n",
    "print(\"Square root of 16:\", math.sqrt(16))\n",
    "print(\"Value of pi:\", math.pi)\n"
   ]
  },
  {
   "cell_type": "markdown",
   "id": "90a6a0e2",
   "metadata": {},
   "source": [
    "In this example, the math module is imported using the import keyword. The module provides various mathematical functions and constants. We use the sqrt() function to calculate the square root of a number and access the value of pi using math.pi."
   ]
  },
  {
   "cell_type": "markdown",
   "id": "11042171",
   "metadata": {},
   "source": [
    "# Importing specific functions from a module:"
   ]
  },
  {
   "cell_type": "code",
   "execution_count": 18,
   "id": "10bf7884",
   "metadata": {},
   "outputs": [
    {
     "name": "stdout",
     "output_type": "stream",
     "text": [
      "Random number between 1 and 10: 10\n",
      "Random choice from a list: banana\n"
     ]
    }
   ],
   "source": [
    "from random import randint, choice\n",
    "\n",
    "# Using random functions\n",
    "print(\"Random number between 1 and 10:\", randint(1, 10))\n",
    "print(\"Random choice from a list:\", choice([\"apple\", \"banana\", \"orange\"]))\n"
   ]
  },
  {
   "cell_type": "markdown",
   "id": "23356588",
   "metadata": {},
   "source": [
    "Here, we import specific functions randint() and choice() from the random module using the from keyword. These functions allow us to generate random numbers and make random choices from a list."
   ]
  },
  {
   "cell_type": "markdown",
   "id": "55caf6fd",
   "metadata": {},
   "source": [
    "# Importing a module with an alias:"
   ]
  },
  {
   "cell_type": "code",
   "execution_count": 19,
   "id": "072b167e",
   "metadata": {},
   "outputs": [
    {
     "name": "stdout",
     "output_type": "stream",
     "text": [
      "Current time: 2023-05-26 15:15:40.013981\n"
     ]
    }
   ],
   "source": [
    "import datetime as dt\n",
    "\n",
    "# Using datetime functions\n",
    "current_time = dt.datetime.now()\n",
    "print(\"Current time:\", current_time)\n"
   ]
  },
  {
   "cell_type": "markdown",
   "id": "ac6c7912",
   "metadata": {},
   "source": [
    "In this example, the datetime module is imported and given an alias dt using the as keyword. We use the module to access the datetime.now() function, which returns the current date and time."
   ]
  },
  {
   "cell_type": "markdown",
   "id": "47dd7184",
   "metadata": {},
   "source": [
    "# Importing an entire module and accessing its contents:"
   ]
  },
  {
   "cell_type": "code",
   "execution_count": 20,
   "id": "f449c61a",
   "metadata": {},
   "outputs": [
    {
     "name": "stdout",
     "output_type": "stream",
     "text": [
      "Current directory: C:\\Users\\ahsan\n"
     ]
    }
   ],
   "source": [
    "import os\n",
    "\n",
    "# Using os functions\n",
    "current_directory = os.getcwd()\n",
    "print(\"Current directory:\", current_directory)\n"
   ]
  },
  {
   "cell_type": "markdown",
   "id": "68b9f142",
   "metadata": {},
   "source": [
    "Here, the os module is imported, and we use the module to access the getcwd() function, which returns the current working directory."
   ]
  },
  {
   "cell_type": "code",
   "execution_count": null,
   "id": "9caa4793",
   "metadata": {},
   "outputs": [],
   "source": []
  }
 ],
 "metadata": {
  "kernelspec": {
   "display_name": "Python 3 (ipykernel)",
   "language": "python",
   "name": "python3"
  },
  "language_info": {
   "codemirror_mode": {
    "name": "ipython",
    "version": 3
   },
   "file_extension": ".py",
   "mimetype": "text/x-python",
   "name": "python",
   "nbconvert_exporter": "python",
   "pygments_lexer": "ipython3",
   "version": "3.9.16"
  }
 },
 "nbformat": 4,
 "nbformat_minor": 5
}
