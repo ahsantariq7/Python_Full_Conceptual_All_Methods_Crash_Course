{
 "cells": [
  {
   "cell_type": "markdown",
   "id": "8ac4bd91",
   "metadata": {},
   "source": [
    "<!DOCTYPE html>\n",
    "<html>\n",
    "<head>\n",
    "    <title>My Social Profiles</title>\n",
    "</head>\n",
    "<body>\n",
    "    <h1>My Social Profiles</h1>\n",
    "    Note: To Follow And Any Query Feel Free To Contact\n",
    "    \n",
    "- <a href=\"https://www.youtube.com/@AhsanTechTalk0724\">My YouTube Channel</a>\n",
    "       \n",
    "- <a href=\"https://www.linkedin.com/in/engr-ahsan-tariq-0724-/\">My LinkedIn Profile</a>\n",
    "        \n",
    "- <a href=\"https://github.com/ahsantariq7\">My GitHub Account</a>\n",
    "\n",
    "- <a href=\"https://www.facebook.com/ahsantariq0724/\">My FaceBook Account</a>\n",
    "    \n",
    "- <a href=\"mailto:ahsantariq0724@gmail.com\">Click here to send an email</a>\n",
    "\n",
    "      \n",
    "</body>\n",
    "</html>\n"
   ]
  },
  {
   "cell_type": "code",
   "execution_count": 2,
   "id": "a0669a37",
   "metadata": {},
   "outputs": [
    {
     "data": {
      "text/html": [
       "<img src=\"https://scontent.flhe25-1.fna.fbcdn.net/v/t39.30808-6/322959769_688313266422231_2651007991561433272_n.jpg?_nc_cat=106&ccb=1-7&_nc_sid=09cbfe&_nc_eui2=AeGsYf7untRAHe9U6m698DVLFfYJZM0iqCUV9glkzSKoJUnZrImvhJ_EQ2t1HSG-6elOVXAfi8S_o3EdpEYDFtVP&_nc_ohc=wyOMYm8BMckAX_csKty&_nc_ht=scontent.flhe25-1.fna&oh=00_AfDqVkU01YFo2MnDeRAg07pHFPiAInV1uooBkrlP4r-7gg&oe=64743EAC\"/>"
      ],
      "text/plain": [
       "<IPython.core.display.Image object>"
      ]
     },
     "execution_count": 2,
     "metadata": {},
     "output_type": "execute_result"
    }
   ],
   "source": [
    "from IPython.display import Image\n",
    "\n",
    "# URL of your Facebook profile picture\n",
    "image_url = \"https://scontent.flhe25-1.fna.fbcdn.net/v/t39.30808-6/322959769_688313266422231_2651007991561433272_n.jpg?_nc_cat=106&ccb=1-7&_nc_sid=09cbfe&_nc_eui2=AeGsYf7untRAHe9U6m698DVLFfYJZM0iqCUV9glkzSKoJUnZrImvhJ_EQ2t1HSG-6elOVXAfi8S_o3EdpEYDFtVP&_nc_ohc=wyOMYm8BMckAX_csKty&_nc_ht=scontent.flhe25-1.fna&oh=00_AfDqVkU01YFo2MnDeRAg07pHFPiAInV1uooBkrlP4r-7gg&oe=64743EAC\"\n",
    "\n",
    "# Display the image\n",
    "Image(url=image_url)"
   ]
  },
  {
   "cell_type": "markdown",
   "id": "4f409102",
   "metadata": {},
   "source": [
    "# Dictionaries \n",
    "- in Python are unordered collections of key-value pairs. They are also known as associative arrays, maps, or hash tables in other programming languages. Dictionaries are mutable, meaning you can modify them by adding, updating, or removing key-value pairs.\n",
    "\n",
    "- Dictionaries are commonly used when you want to store and access data based on a specific key rather than an index. They are useful for tasks like mapping unique identifiers to values, building lookup tables, or representing structured data."
   ]
  },
  {
   "cell_type": "markdown",
   "id": "434c243b",
   "metadata": {},
   "source": [
    "# Creating a Dictionary:"
   ]
  },
  {
   "cell_type": "code",
   "execution_count": 21,
   "id": "6aef1cec",
   "metadata": {},
   "outputs": [
    {
     "name": "stdout",
     "output_type": "stream",
     "text": [
      "{'name': 'John', 'age': 30, 'city': 'New York'}\n"
     ]
    }
   ],
   "source": [
    "my_dict = {'name': 'John', 'age': 30, 'city': 'New York'}\n",
    "print(my_dict)  # Output: {'name': 'John', 'age': 30, 'city': 'New York'}\n"
   ]
  },
  {
   "cell_type": "markdown",
   "id": "21574dd7",
   "metadata": {},
   "source": [
    "# 2.Accessing Values:"
   ]
  },
  {
   "cell_type": "code",
   "execution_count": 4,
   "id": "5469a735",
   "metadata": {},
   "outputs": [
    {
     "name": "stdout",
     "output_type": "stream",
     "text": [
      "John\n"
     ]
    }
   ],
   "source": [
    "print(my_dict['name'])  # Output: John"
   ]
  },
  {
   "cell_type": "markdown",
   "id": "b8cb3a7c",
   "metadata": {},
   "source": [
    "# Updating a Dictionary:"
   ]
  },
  {
   "cell_type": "code",
   "execution_count": 5,
   "id": "012f212b",
   "metadata": {},
   "outputs": [
    {
     "name": "stdout",
     "output_type": "stream",
     "text": [
      "{'name': 'John', 'age': 31, 'city': 'New York'}\n"
     ]
    }
   ],
   "source": [
    "my_dict['age'] = 31\n",
    "print(my_dict)  # Output: {'name': 'John', 'age': 31, 'city': 'New York'}\n"
   ]
  },
  {
   "cell_type": "markdown",
   "id": "3694eb7a",
   "metadata": {},
   "source": [
    "# Adding a New Key-Value Pair:"
   ]
  },
  {
   "cell_type": "code",
   "execution_count": 6,
   "id": "a3be7e38",
   "metadata": {},
   "outputs": [
    {
     "name": "stdout",
     "output_type": "stream",
     "text": [
      "{'name': 'John', 'age': 31, 'city': 'New York', 'country': 'USA'}\n"
     ]
    }
   ],
   "source": [
    "my_dict['country'] = 'USA'\n",
    "print(my_dict)  # Output: {'name': 'John', 'age': 31, 'city': 'New York', 'country': 'USA'}\n"
   ]
  },
  {
   "cell_type": "markdown",
   "id": "80fe0695",
   "metadata": {},
   "source": [
    "# Deleting a Key-Value Pair:"
   ]
  },
  {
   "cell_type": "code",
   "execution_count": 7,
   "id": "9aa766fa",
   "metadata": {},
   "outputs": [
    {
     "name": "stdout",
     "output_type": "stream",
     "text": [
      "{'name': 'John', 'age': 31, 'country': 'USA'}\n"
     ]
    }
   ],
   "source": [
    "del my_dict['city']\n",
    "print(my_dict)  # Output: {'name': 'John', 'age': 31, 'country': 'USA'}\n"
   ]
  },
  {
   "cell_type": "markdown",
   "id": "63f5d369",
   "metadata": {},
   "source": [
    "# Checking if a Key Exists:"
   ]
  },
  {
   "cell_type": "code",
   "execution_count": 8,
   "id": "1a293b6b",
   "metadata": {},
   "outputs": [
    {
     "name": "stdout",
     "output_type": "stream",
     "text": [
      "Key 'name' exists!\n"
     ]
    }
   ],
   "source": [
    "if 'name' in my_dict:\n",
    "    print(\"Key 'name' exists!\")\n"
   ]
  },
  {
   "cell_type": "markdown",
   "id": "f7d51200",
   "metadata": {},
   "source": [
    "# Getting the Number of Key-Value Pairs:"
   ]
  },
  {
   "cell_type": "code",
   "execution_count": 9,
   "id": "2269bc3f",
   "metadata": {},
   "outputs": [
    {
     "name": "stdout",
     "output_type": "stream",
     "text": [
      "3\n"
     ]
    }
   ],
   "source": [
    "num_items = len(my_dict)\n",
    "print(num_items)  # Output: 3\n"
   ]
  },
  {
   "cell_type": "markdown",
   "id": "e50d48f2",
   "metadata": {},
   "source": [
    "# Getting a List of Keys:"
   ]
  },
  {
   "cell_type": "code",
   "execution_count": 10,
   "id": "0baeaaa9",
   "metadata": {},
   "outputs": [
    {
     "name": "stdout",
     "output_type": "stream",
     "text": [
      "['name', 'age', 'country']\n"
     ]
    }
   ],
   "source": [
    "keys_list = list(my_dict.keys())\n",
    "print(keys_list)  # Output: ['name', 'age', 'country']\n"
   ]
  },
  {
   "cell_type": "markdown",
   "id": "9154da07",
   "metadata": {},
   "source": [
    "# Getting a List of Keys:"
   ]
  },
  {
   "cell_type": "code",
   "execution_count": 11,
   "id": "d764fdba",
   "metadata": {},
   "outputs": [
    {
     "name": "stdout",
     "output_type": "stream",
     "text": [
      "['name', 'age', 'country']\n"
     ]
    }
   ],
   "source": [
    "keys_list = list(my_dict.keys())\n",
    "print(keys_list)  # Output: ['name', 'age', 'country']\n"
   ]
  },
  {
   "cell_type": "markdown",
   "id": "2a863344",
   "metadata": {},
   "source": [
    "# Getting a List of Values:"
   ]
  },
  {
   "cell_type": "markdown",
   "id": "4c0aa7db",
   "metadata": {},
   "source": [
    "values_list = list(my_dict.values())\n",
    "print(values_list)  # Output: ['John', 31, 'USA']\n"
   ]
  },
  {
   "cell_type": "markdown",
   "id": "bf8c588c",
   "metadata": {},
   "source": [
    "# Getting a List of Key-Value Pairs:"
   ]
  },
  {
   "cell_type": "code",
   "execution_count": 13,
   "id": "f1726e77",
   "metadata": {},
   "outputs": [
    {
     "name": "stdout",
     "output_type": "stream",
     "text": [
      "[('name', 'John'), ('age', 31), ('country', 'USA')]\n"
     ]
    }
   ],
   "source": [
    "items_list = list(my_dict.items())\n",
    "print(items_list)  # Output: [('name', 'John'), ('age', 31), ('country', 'USA')]\n"
   ]
  },
  {
   "cell_type": "markdown",
   "id": "a4955861",
   "metadata": {},
   "source": [
    "# Copying a Dictionary:"
   ]
  },
  {
   "cell_type": "code",
   "execution_count": 14,
   "id": "5d74fd87",
   "metadata": {},
   "outputs": [
    {
     "name": "stdout",
     "output_type": "stream",
     "text": [
      "{'name': 'John', 'age': 31, 'country': 'USA'}\n"
     ]
    }
   ],
   "source": [
    "new_dict = my_dict.copy()\n",
    "print(new_dict)  # Output: {'name': 'John', 'age': 31, 'country': 'USA'}\n"
   ]
  },
  {
   "cell_type": "markdown",
   "id": "470bb018",
   "metadata": {},
   "source": [
    "# Clearing a Dictionary:"
   ]
  },
  {
   "cell_type": "code",
   "execution_count": 15,
   "id": "03da1e0d",
   "metadata": {},
   "outputs": [
    {
     "name": "stdout",
     "output_type": "stream",
     "text": [
      "{}\n"
     ]
    }
   ],
   "source": [
    "my_dict.clear()\n",
    "print(my_dict)  # Output: {}\n"
   ]
  },
  {
   "cell_type": "markdown",
   "id": "7a940559",
   "metadata": {},
   "source": [
    "# Getting a Value with Default:"
   ]
  },
  {
   "cell_type": "code",
   "execution_count": 16,
   "id": "a9443c33",
   "metadata": {},
   "outputs": [
    {
     "name": "stdout",
     "output_type": "stream",
     "text": [
      "Default\n"
     ]
    }
   ],
   "source": [
    "value = my_dict.get('name', 'Default')\n",
    "print(value)  # Output: Default\n"
   ]
  },
  {
   "cell_type": "markdown",
   "id": "2622e1ce",
   "metadata": {},
   "source": [
    "# Removing and Returning a Value:"
   ]
  },
  {
   "cell_type": "code",
   "execution_count": 22,
   "id": "b9d72894",
   "metadata": {},
   "outputs": [
    {
     "name": "stdout",
     "output_type": "stream",
     "text": [
      "{'name': 'John', 'age': 30, 'city': 'New York'}\n"
     ]
    }
   ],
   "source": [
    "my_dict = {'name': 'John', 'age': 30, 'city': 'New York'}\n",
    "print(my_dict)  # Output: {'name': 'John', 'age': 30, 'city': 'New York'}\n"
   ]
  },
  {
   "cell_type": "code",
   "execution_count": 23,
   "id": "4c56b866",
   "metadata": {},
   "outputs": [
    {
     "name": "stdout",
     "output_type": "stream",
     "text": [
      "30\n",
      "{'name': 'John', 'city': 'New York'}\n"
     ]
    }
   ],
   "source": [
    "value = my_dict.pop('age')\n",
    "print(value)  # Output: 31\n",
    "print(my_dict)  # Output: {'name': 'John', 'country': 'USA'}\n"
   ]
  },
  {
   "cell_type": "markdown",
   "id": "a680a30b",
   "metadata": {},
   "source": [
    "# Removing and Returning an Arbitrary Key-Value Pair:"
   ]
  },
  {
   "cell_type": "code",
   "execution_count": 24,
   "id": "537a5313",
   "metadata": {},
   "outputs": [
    {
     "name": "stdout",
     "output_type": "stream",
     "text": [
      "city New York\n",
      "{'name': 'John'}\n"
     ]
    }
   ],
   "source": [
    "key, value = my_dict.popitem()\n",
    "print(key, value)  # Output: ('country', 'USA')\n",
    "print(my_dict)  # Output: {'name': 'John'}\n"
   ]
  },
  {
   "cell_type": "markdown",
   "id": "65622905",
   "metadata": {},
   "source": [
    "# Iterating Over a Dictionary:"
   ]
  },
  {
   "cell_type": "code",
   "execution_count": 25,
   "id": "5299da1b",
   "metadata": {},
   "outputs": [
    {
     "name": "stdout",
     "output_type": "stream",
     "text": [
      "name John\n"
     ]
    }
   ],
   "source": [
    "for key, value in my_dict.items():\n",
    "    print(key, value)\n",
    "# Output:\n",
    "# name John\n"
   ]
  },
  {
   "cell_type": "markdown",
   "id": "348e6470",
   "metadata": {},
   "source": [
    "# Checking if a Value Exists:"
   ]
  },
  {
   "cell_type": "code",
   "execution_count": 26,
   "id": "b8efde58",
   "metadata": {},
   "outputs": [
    {
     "name": "stdout",
     "output_type": "stream",
     "text": [
      "Value 'John' exists!\n"
     ]
    }
   ],
   "source": [
    "if 'John' in my_dict.values():\n",
    "    print(\"Value 'John' exists!\")\n"
   ]
  },
  {
   "cell_type": "markdown",
   "id": "21c6cb9d",
   "metadata": {},
   "source": [
    "# Checking if a Dictionary is Empty:"
   ]
  },
  {
   "cell_type": "code",
   "execution_count": 27,
   "id": "ee202a29",
   "metadata": {},
   "outputs": [],
   "source": [
    "if not my_dict:\n",
    "    print(\"The dictionary is empty!\")\n"
   ]
  },
  {
   "cell_type": "markdown",
   "id": "978d4df9",
   "metadata": {},
   "source": [
    "# Creating a Dictionary with a Constructor:"
   ]
  },
  {
   "cell_type": "code",
   "execution_count": 28,
   "id": "fcbf016d",
   "metadata": {},
   "outputs": [
    {
     "name": "stdout",
     "output_type": "stream",
     "text": [
      "{'name': 'John', 'age': 30, 'city': 'New York'}\n"
     ]
    }
   ],
   "source": [
    "my_dict = dict(name='John', age=30, city='New York')\n",
    "print(my_dict)  # Output: {'name': 'John', 'age': 30, 'city': 'New York'}\n"
   ]
  },
  {
   "cell_type": "markdown",
   "id": "d2f26616",
   "metadata": {},
   "source": [
    "# Setting a Default Value if Key Doesn't Exist:"
   ]
  },
  {
   "cell_type": "code",
   "execution_count": 29,
   "id": "f7dbf8c3",
   "metadata": {},
   "outputs": [
    {
     "name": "stdout",
     "output_type": "stream",
     "text": [
      "Unknown\n",
      "{'name': 'John', 'age': 30, 'city': 'New York', 'country': 'Unknown'}\n"
     ]
    }
   ],
   "source": [
    "value = my_dict.setdefault('country', 'Unknown')\n",
    "print(value)  # Output: Unknown\n",
    "print(my_dict)  # Output: {'name': 'John', 'age': 30, 'city': 'New York', 'country': 'Unknown'}\n"
   ]
  },
  {
   "cell_type": "markdown",
   "id": "a81e787e",
   "metadata": {},
   "source": [
    "# Merging Dictionaries (Python 3.9+):"
   ]
  },
  {
   "cell_type": "code",
   "execution_count": 30,
   "id": "3861f39c",
   "metadata": {},
   "outputs": [
    {
     "name": "stdout",
     "output_type": "stream",
     "text": [
      "{'name': 'John', 'age': 30}\n"
     ]
    }
   ],
   "source": [
    "dict1 = {'name': 'John'}\n",
    "dict2 = {'age': 30}\n",
    "merged_dict = {**dict1, **dict2}\n",
    "print(merged_dict)  # Output: {'name': 'John', 'age': 30}\n"
   ]
  },
  {
   "cell_type": "markdown",
   "id": "f94df0c5",
   "metadata": {},
   "source": [
    "# Sorting a Dictionary by Key:"
   ]
  },
  {
   "cell_type": "code",
   "execution_count": 31,
   "id": "f1efb867",
   "metadata": {},
   "outputs": [
    {
     "name": "stdout",
     "output_type": "stream",
     "text": [
      "{'age': 30, 'city': 'New York', 'country': 'Unknown', 'name': 'John'}\n"
     ]
    }
   ],
   "source": [
    "sorted_dict = dict(sorted(my_dict.items()))\n",
    "print(sorted_dict)  # Output: {'age': 30, 'city': 'New York', 'name': 'John'}\n"
   ]
  },
  {
   "cell_type": "markdown",
   "id": "ceb07610",
   "metadata": {},
   "source": [
    "# Sorting a Dictionary by Value:"
   ]
  },
  {
   "cell_type": "code",
   "execution_count": 33,
   "id": "731d7b68",
   "metadata": {},
   "outputs": [
    {
     "ename": "TypeError",
     "evalue": "'<' not supported between instances of 'int' and 'str'",
     "output_type": "error",
     "traceback": [
      "\u001b[1;31m---------------------------------------------------------------------------\u001b[0m",
      "\u001b[1;31mTypeError\u001b[0m                                 Traceback (most recent call last)",
      "Cell \u001b[1;32mIn[33], line 1\u001b[0m\n\u001b[1;32m----> 1\u001b[0m sorted_dict \u001b[38;5;241m=\u001b[39m \u001b[38;5;28mdict\u001b[39m(\u001b[38;5;28;43msorted\u001b[39;49m\u001b[43m(\u001b[49m\u001b[43mmy_dict\u001b[49m\u001b[38;5;241;43m.\u001b[39;49m\u001b[43mitems\u001b[49m\u001b[43m(\u001b[49m\u001b[43m)\u001b[49m\u001b[43m,\u001b[49m\u001b[43m \u001b[49m\u001b[43mkey\u001b[49m\u001b[38;5;241;43m=\u001b[39;49m\u001b[38;5;28;43;01mlambda\u001b[39;49;00m\u001b[43m \u001b[49m\u001b[43mx\u001b[49m\u001b[43m:\u001b[49m\u001b[43m \u001b[49m\u001b[43mx\u001b[49m\u001b[43m[\u001b[49m\u001b[38;5;241;43m1\u001b[39;49m\u001b[43m]\u001b[49m\u001b[43m)\u001b[49m)\n\u001b[0;32m      2\u001b[0m \u001b[38;5;28mprint\u001b[39m(sorted_dict)\n",
      "\u001b[1;31mTypeError\u001b[0m: '<' not supported between instances of 'int' and 'str'"
     ]
    }
   ],
   "source": [
    "sorted_dict = dict(sorted(my_dict.items(), key=lambda x: x[1]))\n",
    "print(sorted_dict)  # Output: {'name': 'John', 'age': 30, 'city': 'New York'}\n"
   ]
  },
  {
   "cell_type": "markdown",
   "id": "93f31dd1",
   "metadata": {},
   "source": [
    "# Creating a Dictionary from Two Lists:"
   ]
  },
  {
   "cell_type": "code",
   "execution_count": 34,
   "id": "e05ce0c5",
   "metadata": {},
   "outputs": [
    {
     "name": "stdout",
     "output_type": "stream",
     "text": [
      "{'name': 'John', 'age': 30, 'city': 'New York'}\n"
     ]
    }
   ],
   "source": [
    "keys = ['name', 'age', 'city']\n",
    "values = ['John', 30, 'New York']\n",
    "combined_dict = dict(zip(keys, values))\n",
    "print(combined_dict)  # Output: {'name': 'John', 'age': 30, 'city': 'New York'}\n"
   ]
  },
  {
   "cell_type": "markdown",
   "id": "45cb51a3",
   "metadata": {},
   "source": [
    "# Creating a Dictionary with Default Values"
   ]
  },
  {
   "cell_type": "code",
   "execution_count": 35,
   "id": "cfb45b0e",
   "metadata": {},
   "outputs": [
    {
     "name": "stdout",
     "output_type": "stream",
     "text": [
      "{'name': 'John', 'age': 30, 'city': 'New York'}\n"
     ]
    }
   ],
   "source": [
    "keys = ['name', 'age', 'city']\n",
    "values = ['John', 30, 'New York']\n",
    "combined_dict = dict(zip(keys, values))\n",
    "print(combined_dict)  # Output: {'name': 'John', 'age': 30, 'city': 'New York'}\n"
   ]
  },
  {
   "cell_type": "markdown",
   "id": "eb60ff71",
   "metadata": {},
   "source": [
    "# Checking Equality of Two Dictionaries:"
   ]
  },
  {
   "cell_type": "code",
   "execution_count": 36,
   "id": "b21f6435",
   "metadata": {},
   "outputs": [
    {
     "name": "stdout",
     "output_type": "stream",
     "text": [
      "The dictionaries are equal!\n"
     ]
    }
   ],
   "source": [
    "dict1 = {'name': 'John', 'age': 30}\n",
    "dict2 = {'age': 30, 'name': 'John'}\n",
    "if dict1 == dict2:\n",
    "    print(\"The dictionaries are equal!\")\n"
   ]
  },
  {
   "cell_type": "markdown",
   "id": "fa570054",
   "metadata": {},
   "source": [
    "# Creating a Nested Dictionary:"
   ]
  },
  {
   "cell_type": "code",
   "execution_count": 37,
   "id": "e18fd1cf",
   "metadata": {},
   "outputs": [
    {
     "name": "stdout",
     "output_type": "stream",
     "text": [
      "90\n"
     ]
    }
   ],
   "source": [
    "student = {\n",
    "    'name': 'John',\n",
    "    'age': 20,\n",
    "    'grades': {'math': 90, 'science': 85, 'history': 92}\n",
    "}\n",
    "print(student['grades']['math'])  # Output: 90\n"
   ]
  },
  {
   "cell_type": "markdown",
   "id": "e096d19e",
   "metadata": {},
   "source": [
    "# Accessing a Non-existent Key with get():"
   ]
  },
  {
   "cell_type": "code",
   "execution_count": 38,
   "id": "fc9f1117",
   "metadata": {},
   "outputs": [
    {
     "name": "stdout",
     "output_type": "stream",
     "text": [
      "Unknown\n"
     ]
    }
   ],
   "source": [
    "my_dict = {'name': 'John', 'age': 30}\n",
    "value = my_dict.get('country', 'Unknown')\n",
    "print(value)  # Output: Unknown\n"
   ]
  },
  {
   "cell_type": "markdown",
   "id": "469b8892",
   "metadata": {},
   "source": [
    "# Counting the Occurrences of Values in a Dictionary:"
   ]
  },
  {
   "cell_type": "code",
   "execution_count": 39,
   "id": "86ded5af",
   "metadata": {},
   "outputs": [
    {
     "name": "stdout",
     "output_type": "stream",
     "text": [
      "{1: 2, 2: 2}\n"
     ]
    }
   ],
   "source": [
    "my_dict = {'a': 1, 'b': 2, 'c': 1, 'd': 2}\n",
    "value_count = {}\n",
    "for value in my_dict.values():\n",
    "    value_count[value] = value_count.get(value, 0) + 1\n",
    "print(value_count)  # Output: {1: 2, 2: 2}\n"
   ]
  },
  {
   "cell_type": "markdown",
   "id": "bde55d50",
   "metadata": {},
   "source": [
    "# Removing a Key-Value Pair and Returning a Default Value:"
   ]
  },
  {
   "cell_type": "code",
   "execution_count": 40,
   "id": "ef4423bb",
   "metadata": {},
   "outputs": [
    {
     "name": "stdout",
     "output_type": "stream",
     "text": [
      "0\n"
     ]
    }
   ],
   "source": [
    "value = my_dict.pop('age', 0)  # Remove 'age' key and return 0 if not found\n",
    "print(value)  # Output: 30\n"
   ]
  },
  {
   "cell_type": "markdown",
   "id": "9b5be98b",
   "metadata": {},
   "source": [
    "# Getting a List of Keys in Insertion Order (Python 3.7+):"
   ]
  },
  {
   "cell_type": "code",
   "execution_count": 41,
   "id": "3f9cbe20",
   "metadata": {},
   "outputs": [
    {
     "name": "stdout",
     "output_type": "stream",
     "text": [
      "['name', 'age', 'city']\n"
     ]
    }
   ],
   "source": [
    "from collections import OrderedDict\n",
    "\n",
    "my_dict = {'name': 'John', 'age': 30, 'city': 'New York'}\n",
    "keys_list = list(OrderedDict(my_dict).keys())\n",
    "print(keys_list)  # Output: ['name', 'age', 'city']\n"
   ]
  },
  {
   "cell_type": "markdown",
   "id": "c7696a7c",
   "metadata": {},
   "source": [
    "# Converting Dictionary Keys to a Set:"
   ]
  },
  {
   "cell_type": "code",
   "execution_count": 42,
   "id": "6550404c",
   "metadata": {},
   "outputs": [
    {
     "name": "stdout",
     "output_type": "stream",
     "text": [
      "{'name', 'city', 'age'}\n"
     ]
    }
   ],
   "source": [
    "my_dict = {'name': 'John', 'age': 30, 'city': 'New York'}\n",
    "key_set = set(my_dict.keys())\n",
    "print(key_set)  # Output: {'name', 'age', 'city'}\n"
   ]
  },
  {
   "cell_type": "markdown",
   "id": "6c24fade",
   "metadata": {},
   "source": [
    "# Checking if All Keys or Values Satisfy a Condition:"
   ]
  },
  {
   "cell_type": "code",
   "execution_count": 43,
   "id": "d1fa6cd2",
   "metadata": {},
   "outputs": [
    {
     "ename": "TypeError",
     "evalue": "'>' not supported between instances of 'str' and 'int'",
     "output_type": "error",
     "traceback": [
      "\u001b[1;31m---------------------------------------------------------------------------\u001b[0m",
      "\u001b[1;31mTypeError\u001b[0m                                 Traceback (most recent call last)",
      "Cell \u001b[1;32mIn[43], line 3\u001b[0m\n\u001b[0;32m      1\u001b[0m my_dict \u001b[38;5;241m=\u001b[39m {\u001b[38;5;124m'\u001b[39m\u001b[38;5;124mname\u001b[39m\u001b[38;5;124m'\u001b[39m: \u001b[38;5;124m'\u001b[39m\u001b[38;5;124mJohn\u001b[39m\u001b[38;5;124m'\u001b[39m, \u001b[38;5;124m'\u001b[39m\u001b[38;5;124mage\u001b[39m\u001b[38;5;124m'\u001b[39m: \u001b[38;5;241m30\u001b[39m, \u001b[38;5;124m'\u001b[39m\u001b[38;5;124mcity\u001b[39m\u001b[38;5;124m'\u001b[39m: \u001b[38;5;124m'\u001b[39m\u001b[38;5;124mNew York\u001b[39m\u001b[38;5;124m'\u001b[39m}\n\u001b[0;32m      2\u001b[0m all_keys \u001b[38;5;241m=\u001b[39m \u001b[38;5;28mall\u001b[39m(key\u001b[38;5;241m.\u001b[39misalpha() \u001b[38;5;28;01mfor\u001b[39;00m key \u001b[38;5;129;01min\u001b[39;00m my_dict\u001b[38;5;241m.\u001b[39mkeys())\n\u001b[1;32m----> 3\u001b[0m all_values \u001b[38;5;241m=\u001b[39m \u001b[38;5;28;43mall\u001b[39;49m\u001b[43m(\u001b[49m\u001b[43mvalue\u001b[49m\u001b[43m \u001b[49m\u001b[38;5;241;43m>\u001b[39;49m\u001b[43m \u001b[49m\u001b[38;5;241;43m0\u001b[39;49m\u001b[43m \u001b[49m\u001b[38;5;28;43;01mfor\u001b[39;49;00m\u001b[43m \u001b[49m\u001b[43mvalue\u001b[49m\u001b[43m \u001b[49m\u001b[38;5;129;43;01min\u001b[39;49;00m\u001b[43m \u001b[49m\u001b[43mmy_dict\u001b[49m\u001b[38;5;241;43m.\u001b[39;49m\u001b[43mvalues\u001b[49m\u001b[43m(\u001b[49m\u001b[43m)\u001b[49m\u001b[43m)\u001b[49m\n\u001b[0;32m      4\u001b[0m \u001b[38;5;28mprint\u001b[39m(all_keys)  \u001b[38;5;66;03m# Output: True\u001b[39;00m\n\u001b[0;32m      5\u001b[0m \u001b[38;5;28mprint\u001b[39m(all_values)\n",
      "Cell \u001b[1;32mIn[43], line 3\u001b[0m, in \u001b[0;36m<genexpr>\u001b[1;34m(.0)\u001b[0m\n\u001b[0;32m      1\u001b[0m my_dict \u001b[38;5;241m=\u001b[39m {\u001b[38;5;124m'\u001b[39m\u001b[38;5;124mname\u001b[39m\u001b[38;5;124m'\u001b[39m: \u001b[38;5;124m'\u001b[39m\u001b[38;5;124mJohn\u001b[39m\u001b[38;5;124m'\u001b[39m, \u001b[38;5;124m'\u001b[39m\u001b[38;5;124mage\u001b[39m\u001b[38;5;124m'\u001b[39m: \u001b[38;5;241m30\u001b[39m, \u001b[38;5;124m'\u001b[39m\u001b[38;5;124mcity\u001b[39m\u001b[38;5;124m'\u001b[39m: \u001b[38;5;124m'\u001b[39m\u001b[38;5;124mNew York\u001b[39m\u001b[38;5;124m'\u001b[39m}\n\u001b[0;32m      2\u001b[0m all_keys \u001b[38;5;241m=\u001b[39m \u001b[38;5;28mall\u001b[39m(key\u001b[38;5;241m.\u001b[39misalpha() \u001b[38;5;28;01mfor\u001b[39;00m key \u001b[38;5;129;01min\u001b[39;00m my_dict\u001b[38;5;241m.\u001b[39mkeys())\n\u001b[1;32m----> 3\u001b[0m all_values \u001b[38;5;241m=\u001b[39m \u001b[38;5;28mall\u001b[39m(\u001b[43mvalue\u001b[49m\u001b[43m \u001b[49m\u001b[38;5;241;43m>\u001b[39;49m\u001b[43m \u001b[49m\u001b[38;5;241;43m0\u001b[39;49m \u001b[38;5;28;01mfor\u001b[39;00m value \u001b[38;5;129;01min\u001b[39;00m my_dict\u001b[38;5;241m.\u001b[39mvalues())\n\u001b[0;32m      4\u001b[0m \u001b[38;5;28mprint\u001b[39m(all_keys)  \u001b[38;5;66;03m# Output: True\u001b[39;00m\n\u001b[0;32m      5\u001b[0m \u001b[38;5;28mprint\u001b[39m(all_values)\n",
      "\u001b[1;31mTypeError\u001b[0m: '>' not supported between instances of 'str' and 'int'"
     ]
    }
   ],
   "source": [
    "my_dict = {'name': 'John', 'age': 30, 'city': 'New York'}\n",
    "all_keys = all(key.isalpha() for key in my_dict.keys())\n",
    "all_values = all(value > 0 for value in my_dict.values())\n",
    "print(all_keys)  # Output: True\n",
    "print(all_values)  # Output: True\n"
   ]
  },
  {
   "cell_type": "markdown",
   "id": "3b173259",
   "metadata": {},
   "source": [
    "# Creating a Dictionary from a List of Tuples:"
   ]
  },
  {
   "cell_type": "code",
   "execution_count": 45,
   "id": "b2835e42",
   "metadata": {},
   "outputs": [
    {
     "name": "stdout",
     "output_type": "stream",
     "text": [
      "{'name': 'John', 'age': 30, 'city': 'New York'}\n"
     ]
    }
   ],
   "source": [
    "my_list = [('name', 'John'), ('age', 30), ('city', 'New York')]\n",
    "my_dict = dict(my_list)\n",
    "print(my_dict)  # Output: {'name': 'John', 'age': 30, 'city': 'New York'}\n"
   ]
  },
  {
   "cell_type": "markdown",
   "id": "953c2e25",
   "metadata": {},
   "source": [
    "# Checking if Any Key or Value Satisfies a Condition:"
   ]
  },
  {
   "cell_type": "code",
   "execution_count": 46,
   "id": "a81b8866",
   "metadata": {},
   "outputs": [
    {
     "name": "stdout",
     "output_type": "stream",
     "text": [
      "True\n",
      "True\n"
     ]
    }
   ],
   "source": [
    "my_dict = {'name': 'John', 'age': 30, 'city': 'New York'}\n",
    "any_key = any(key == 'age' for key in my_dict.keys())\n",
    "any_value = any(value == 'John' for value in my_dict.values())\n",
    "print(any_key)  # Output: True\n",
    "print(any_value)  # Output: True\n"
   ]
  },
  {
   "cell_type": "markdown",
   "id": "24a69ddc",
   "metadata": {},
   "source": [
    "# Checking if Two Dictionaries Have the Same Keys:"
   ]
  },
  {
   "cell_type": "code",
   "execution_count": 47,
   "id": "72fb9424",
   "metadata": {},
   "outputs": [],
   "source": [
    "dict1 = {'name': 'John', 'age': 30}\n",
    "dict2 = {'age': 30, 'city': 'New York'}\n",
    "if set(dict1.keys()) == set(dict2.keys()):\n",
    "    print(\"The dictionaries have the same keys!\")\n"
   ]
  },
  {
   "cell_type": "markdown",
   "id": "dd2cc2b6",
   "metadata": {},
   "source": [
    "# Filtering a Dictionary Based on Key or Value Conditions:"
   ]
  },
  {
   "cell_type": "code",
   "execution_count": 48,
   "id": "44d823a8",
   "metadata": {},
   "outputs": [
    {
     "name": "stdout",
     "output_type": "stream",
     "text": [
      "{'name': 'John', 'city': 'New York'}\n"
     ]
    }
   ],
   "source": [
    "my_dict = {'name': 'John', 'age': 30, 'city': 'New York'}\n",
    "filtered_dict = {key: value for key, value in my_dict.items() if key != 'age'}\n",
    "print(filtered_dict)  # Output: {'name': 'John', 'city': 'New York'}\n"
   ]
  },
  {
   "cell_type": "markdown",
   "id": "a5fe9e25",
   "metadata": {},
   "source": [
    "# Combining Dictionaries Using update() Method:"
   ]
  },
  {
   "cell_type": "code",
   "execution_count": 49,
   "id": "ce1a86af",
   "metadata": {},
   "outputs": [
    {
     "name": "stdout",
     "output_type": "stream",
     "text": [
      "{'name': 'John', 'age': 31, 'city': 'New York'}\n"
     ]
    }
   ],
   "source": [
    "dict1 = {'name': 'John', 'age': 30}\n",
    "dict2 = {'age': 31, 'city': 'New York'}\n",
    "dict1.update(dict2)\n",
    "print(dict1)  # Output: {'name': 'John', 'age': 31, 'city': 'New York'}\n"
   ]
  },
  {
   "cell_type": "markdown",
   "id": "a7202efc",
   "metadata": {},
   "source": [
    "# Creating a Dictionary with Default Values using defaultdict:"
   ]
  },
  {
   "cell_type": "code",
   "execution_count": 50,
   "id": "517da1ed",
   "metadata": {},
   "outputs": [
    {
     "name": "stdout",
     "output_type": "stream",
     "text": [
      "defaultdict(<class 'int'>, {'count': 1})\n"
     ]
    }
   ],
   "source": [
    "from collections import defaultdict\n",
    "\n",
    "my_dict = defaultdict(int)  # Default value is 0 (integer)\n",
    "my_dict['count'] += 1\n",
    "print(my_dict)  # Output: {'count': 1}\n"
   ]
  },
  {
   "cell_type": "markdown",
   "id": "f66d34ea",
   "metadata": {},
   "source": [
    "# Reversing Keys and Values in a Dictionary:"
   ]
  },
  {
   "cell_type": "code",
   "execution_count": 51,
   "id": "fa861dc3",
   "metadata": {},
   "outputs": [
    {
     "name": "stdout",
     "output_type": "stream",
     "text": [
      "{'John': 'name', 30: 'age', 'New York': 'city'}\n"
     ]
    }
   ],
   "source": [
    "my_dict = {'name': 'John', 'age': 30, 'city': 'New York'}\n",
    "reversed_dict = {value: key for key, value in my_dict.items()}\n",
    "print(reversed_dict)  # Output: {'John': 'name', 30: 'age', 'New York': 'city'}\n"
   ]
  },
  {
   "cell_type": "markdown",
   "id": "e0810c13",
   "metadata": {},
   "source": [
    "# Updating Values in Nested Dictionaries:"
   ]
  },
  {
   "cell_type": "code",
   "execution_count": 52,
   "id": "1b8914dd",
   "metadata": {},
   "outputs": [
    {
     "name": "stdout",
     "output_type": "stream",
     "text": [
      "{'person': {'name': 'John', 'age': 31}}\n"
     ]
    }
   ],
   "source": [
    "my_dict = {'person': {'name': 'John', 'age': 30}}\n",
    "my_dict['person']['age'] = 31\n",
    "print(my_dict)  # Output: {'person': {'name': 'John', 'age': 31}}\n"
   ]
  },
  {
   "cell_type": "markdown",
   "id": "86a6f0b7",
   "metadata": {},
   "source": [
    "# Flattening a Dictionary:"
   ]
  },
  {
   "cell_type": "code",
   "execution_count": 53,
   "id": "f9d30d7d",
   "metadata": {},
   "outputs": [
    {
     "name": "stdout",
     "output_type": "stream",
     "text": [
      "{'name': 'John', 'age': 30, 'city': 'New York'}\n"
     ]
    }
   ],
   "source": [
    "import itertools\n",
    "\n",
    "my_dict = {'person': {'name': 'John', 'age': 30}, 'city': 'New York'}\n",
    "flattened_dict = dict(itertools.chain.from_iterable(d.items() if isinstance(d, dict) else [(k, d)] for k, d in my_dict.items()))\n",
    "print(flattened_dict)  # Output: {'name': 'John', 'age': 30, 'city': 'New York'}\n"
   ]
  },
  {
   "cell_type": "markdown",
   "id": "37ddc2ec",
   "metadata": {},
   "source": [
    "# Converting a Dictionary to a JSON String:"
   ]
  },
  {
   "cell_type": "code",
   "execution_count": 54,
   "id": "bfb16ca4",
   "metadata": {},
   "outputs": [
    {
     "name": "stdout",
     "output_type": "stream",
     "text": [
      "{\"name\": \"John\", \"age\": 30, \"city\": \"New York\"}\n"
     ]
    }
   ],
   "source": [
    "import json\n",
    "\n",
    "my_dict = {'name': 'John', 'age': 30, 'city': 'New York'}\n",
    "json_str = json.dumps(my_dict)\n",
    "print(json_str)  # Output: {\"name\": \"John\", \"age\": 30, \"city\": \"New York\"}\n"
   ]
  },
  {
   "cell_type": "markdown",
   "id": "1dfcf282",
   "metadata": {},
   "source": [
    "solve a real-life practice question involving dictionaries in Python. Here's an example:\n",
    "\n",
    "Question:\n",
    "You work for a company that sells various products. The sales data for the month of May is provided in the form of a list of dictionaries. Each dictionary represents a sale and contains the following information: 'product' (name of the product), 'quantity' (number of units sold), and 'price' (price per unit). Write a program that calculates the total sales for each product and displays the result.\n",
    "\n",
    "Sales Data:\n",
    "```python\n",
    "sales = [\n",
    "    {'product': 'Apple', 'quantity': 10, 'price': 2.5},\n",
    "    {'product': 'Banana', 'quantity': 5, 'price': 1.8},\n",
    "    {'product': 'Orange', 'quantity': 8, 'price': 3.2},\n",
    "    {'product': 'Apple', 'quantity': 15, 'price': 2.5},\n",
    "    {'product': 'Banana', 'quantity': 12, 'price': 1.8},\n",
    "    {'product': 'Grape', 'quantity': 6, 'price': 4.0},\n",
    "    {'product': 'Orange', 'quantity': 10, 'price': 3.2}\n",
    "]\n",
    "```\n",
    "\n",
    "Solution:\n",
    "```python\n",
    "sales_summary = {}\n",
    "\n",
    "# Calculate total sales for each product\n",
    "for sale in sales:\n",
    "    product = sale['product']\n",
    "    quantity = sale['quantity']\n",
    "    price = sale['price']\n",
    "    total_sale = quantity * price\n",
    "\n",
    "    if product in sales_summary:\n",
    "        sales_summary[product] += total_sale\n",
    "    else:\n",
    "        sales_summary[product] = total_sale\n",
    "\n",
    "# Display the sales summary\n",
    "for product, total_sale in sales_summary.items():\n",
    "    print(f\"Total sales of {product}: ${total_sale:.2f}\")\n",
    "```\n",
    "\n",
    "Output:\n",
    "```\n",
    "Total sales of Apple: $62.50\n",
    "Total sales of Banana: $43.20\n",
    "Total sales of Orange: $51.20\n",
    "Total sales of Grape: $24.00\n",
    "```\n",
    "\n",
    "In this solution, we iterate over each sale in the `sales` list and calculate the total sale by multiplying the quantity and price. We use a dictionary `sales_summary` to keep track of the total sales for each product. If a product already exists in the dictionary, we add the current sale to the existing total. Otherwise, we add a new entry for the product in the dictionary. Finally, we iterate over the `sales_summary` dictionary and display the total sales for each product."
   ]
  },
  {
   "cell_type": "code",
   "execution_count": null,
   "id": "b546f955",
   "metadata": {},
   "outputs": [],
   "source": []
  }
 ],
 "metadata": {
  "kernelspec": {
   "display_name": "Python 3 (ipykernel)",
   "language": "python",
   "name": "python3"
  },
  "language_info": {
   "codemirror_mode": {
    "name": "ipython",
    "version": 3
   },
   "file_extension": ".py",
   "mimetype": "text/x-python",
   "name": "python",
   "nbconvert_exporter": "python",
   "pygments_lexer": "ipython3",
   "version": "3.9.16"
  }
 },
 "nbformat": 4,
 "nbformat_minor": 5
}
